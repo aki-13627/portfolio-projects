{
 "cells": [
  {
   "cell_type": "code",
   "execution_count": 15,
   "metadata": {},
   "outputs": [],
   "source": [
    "# メモリの解放\n",
    "%reset -f"
   ]
  },
  {
   "cell_type": "code",
   "execution_count": 16,
   "metadata": {},
   "outputs": [
    {
     "name": "stdout",
     "output_type": "stream",
     "text": [
      "The autoreload extension is already loaded. To reload it, use:\n",
      "  %reload_ext autoreload\n"
     ]
    }
   ],
   "source": [
    "# 外部ファイルやモジュールを編集した際に、自動的に再読み込みされるようになる\n",
    "%load_ext autoreload"
   ]
  },
  {
   "cell_type": "code",
   "execution_count": 17,
   "metadata": {},
   "outputs": [],
   "source": [
    "# ライブラリのインポート\n",
    "import torch\n",
    "\n",
    "MODEL_PATH = \"../models/latest.model\""
   ]
  },
  {
   "cell_type": "code",
   "execution_count": 18,
   "metadata": {},
   "outputs": [
    {
     "name": "stdout",
     "output_type": "stream",
     "text": [
      "dict_keys(['model_state_dict', 'config'])\n"
     ]
    }
   ],
   "source": [
    "# モデルの確認\n",
    "state_dict = torch.load(MODEL_PATH, map_location=\"cpu\")\n",
    "print(state_dict.keys())"
   ]
  },
  {
   "cell_type": "code",
   "execution_count": 19,
   "metadata": {},
   "outputs": [
    {
     "data": {
      "text/plain": [
       "{'alias': 'sim',\n",
       " 'num_epoch': 50,\n",
       " 'batch_size': 512,\n",
       " 'optimizer': 'adam',\n",
       " 'adam_lr': 0.001,\n",
       " 'num_users': 100,\n",
       " 'num_items': 200,\n",
       " 'latent_dim_mf': 8,\n",
       " 'latent_dim_mlp': 8,\n",
       " 'num_negative': 4,\n",
       " 'layers': [16, 64, 32, 16, 8],\n",
       " 'l2_regularization': 1e-07,\n",
       " 'weight_init_gaussian': True,\n",
       " 'use_cuda': True,\n",
       " 'use_bachify_eval': False,\n",
       " 'device_id': 0,\n",
       " 'pretrain': False,\n",
       " 'model_dir': 'recommend_system/models/checkpoints/sim_HR{:.4f}_NDCG{:.4f}.model',\n",
       " 'image_emb_dim': 16,\n",
       " 'text_emb_dim': 16,\n",
       " 'image_feature_dim': 768,\n",
       " 'text_feature_dim': 768}"
      ]
     },
     "execution_count": 19,
     "metadata": {},
     "output_type": "execute_result"
    }
   ],
   "source": [
    "state_dict[\"config\"]"
   ]
  },
  {
   "cell_type": "code",
   "execution_count": null,
   "metadata": {},
   "outputs": [],
   "source": []
  }
 ],
 "metadata": {
  "kernelspec": {
   "display_name": ".venv",
   "language": "python",
   "name": "python3"
  },
  "language_info": {
   "codemirror_mode": {
    "name": "ipython",
    "version": 3
   },
   "file_extension": ".py",
   "mimetype": "text/x-python",
   "name": "python",
   "nbconvert_exporter": "python",
   "pygments_lexer": "ipython3",
   "version": "3.12.2"
  }
 },
 "nbformat": 4,
 "nbformat_minor": 2
}
